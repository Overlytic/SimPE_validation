{
 "cells": [
  {
   "cell_type": "markdown",
   "id": "195eb7f0-c108-40f5-82b2-18a6aea6a3c1",
   "metadata": {},
   "source": [
    "## Graph: FIFO SLURM SIM\n",
    "This uses the pkl outputs from the salabim and slurmtrain notebooks"
   ]
  },
  {
   "cell_type": "markdown",
   "id": "da746fdd-cadf-47c1-9ccd-802497292081",
   "metadata": {},
   "source": [
    "TODO: \n",
    "- [ ] CREATE THE SLURMSIM LOADING NOTEBOOKS!"
   ]
  },
  {
   "cell_type": "code",
   "execution_count": 52,
   "id": "b4768f36-483e-4cef-8e94-44ab29b43093",
   "metadata": {},
   "outputs": [],
   "source": [
    "import numpy as np\n",
    "import pandas as pd\n",
    "from pathlib import Path\n",
    "from scipy import stats\n",
    "import re\n",
    "import matplotlib.pyplot as plt\n",
    "import seaborn as sns\n",
    "%matplotlib inline"
   ]
  },
  {
   "cell_type": "code",
   "execution_count": 53,
   "id": "bccee45b-b2ad-4364-acf5-f7dc64c4f9a9",
   "metadata": {},
   "outputs": [],
   "source": [
    "# Setup Paths\n",
    "path_slurmtrain = Path(r\"/home/overlytic/thesis/notebooks/slurm_train/output/sacct\")\n",
    "path_slurmsim = Path(r\"/mnt/wsl/instances/Ubuntu-18.04//home/slurm/slurm_sim_ws/slurm_sim_tools/slurm_batches/simple_traces/srun\")"
   ]
  },
  {
   "cell_type": "code",
   "execution_count": 54,
   "id": "073ffcee-cc6c-49d6-a93f-cbfde5e15d6c",
   "metadata": {},
   "outputs": [
    {
     "name": "stdout",
     "output_type": "stream",
     "text": [
      "myrun_shortname: fiforun_2jt-run30-rho60\n"
     ]
    }
   ],
   "source": [
    "# Parameters\n",
    "myrun_short_id = \"2jt-run30-rho60\"\n",
    "\n",
    "# # Base run \n",
    "# myrun_type0 = \"fiforun\"\n",
    "# myrun_shortname0 = f\"{myrun_type0}_{myrun_short_id}\"\n",
    "\n",
    "# Main run\n",
    "myrun_type = \"fiforun\"\n",
    "myrun_shortname = f\"{myrun_type}_{myrun_short_id}\"\n",
    "\n",
    "# print(f\"myrun_shortname0: {myrun_shortname0}\")\n",
    "print(f\"myrun_shortname: {myrun_shortname}\")"
   ]
  },
  {
   "cell_type": "code",
   "execution_count": 55,
   "id": "c36ff6c3-2b5e-4a18-8b4b-e6960229ad00",
   "metadata": {},
   "outputs": [],
   "source": [
    "# myrun_savepath = Path('.') / myrun_type / myrun_shortname\n",
    "# print(f\"Output folder: {myrun_savepath}\")"
   ]
  },
  {
   "cell_type": "code",
   "execution_count": 56,
   "id": "3f15443e-be7b-401f-8d0c-c75b2e8dd5fc",
   "metadata": {},
   "outputs": [],
   "source": [
    "# Paths\n",
    "thesis_path = Path(\".\")\n",
    "save_image_path = thesis_path / \"images\" / \"results\"\n",
    "save_data_path = thesis_path / \"images\" / \"data\""
   ]
  },
  {
   "cell_type": "code",
   "execution_count": 57,
   "id": "3687d4f5-960b-4999-abe1-c12159131340",
   "metadata": {},
   "outputs": [],
   "source": [
    "# Helper functions\n",
    "\n",
    "def extract_run_num(f, run_type):\n",
    "    \"\"\"\n",
    "    f : string filename e.g. srun8_fiforun_2jt-run30-rho60-run10_slurmtrain_dfacct\n",
    "    Result : '10' on error return -1\n",
    "    \"\"\"\n",
    "    run_search = re.search(f\".*-run(.*)_{run_type}.*.pkl\", f)\n",
    "    \n",
    "    run = -1 # default\n",
    "    \n",
    "    if run_search:\n",
    "        srun = run_search.group(1)\n",
    "        \n",
    "        if srun.isdigit():\n",
    "            run = int(srun)\n",
    "        \n",
    "    return run\n",
    "    "
   ]
  },
  {
   "cell_type": "code",
   "execution_count": 58,
   "id": "143076a0-b89f-4094-999c-653ac4040797",
   "metadata": {},
   "outputs": [],
   "source": [
    "# write the above as a function ... quickly ... \n",
    "def load_run_filelist(myrun_shortname, myrun_model, myrun_filename, folder_path=save_data_path, sort=True, return_detail=False):\n",
    "    \n",
    "    file_search_string = f'*{myrun_shortname}-run*_{myrun_model}_{myrun_filename}'\n",
    "    filelist_all = list(folder_path.glob(file_search_string))\n",
    "\n",
    "    if filelist_all:\n",
    "        # Extract run numbers\n",
    "        run_nums_all = [extract_run_num(p.name, myrun_model) for p in filelist_all]\n",
    "        \n",
    "        if sort: \n",
    "            # Sort paths based on valid run numbers\n",
    "            ind_sort = np.argsort(run_nums_all)\n",
    "            ind_sort_valid = [ind_sort[i] for i, value in enumerate(run_nums_all) if value > 0]\n",
    "            run_nums_sorted = [run_nums_all[i] for i in ind_sort_valid]\n",
    "            filelist_sorted = [filelist_all[i] for i in ind_sort_valid]\n",
    "                        \n",
    "            if return_detail:\n",
    "                return filelist_sorted, run_nums_sorted, file_search_string  \n",
    "            else:\n",
    "                return filelist_sorted\n",
    "        \n",
    "        else:\n",
    "            if return_detail:\n",
    "                return filelist_all, run_nums_all, file_search_string \n",
    "            else: \n",
    "                return filelist_all\n",
    "        \n",
    "    else:\n",
    "        \n",
    "        if return_detail:\n",
    "            return [], [], file_search_string\n",
    "        else: \n",
    "            return []"
   ]
  },
  {
   "cell_type": "code",
   "execution_count": 59,
   "id": "a22808cc-efd0-4ce5-9515-8b2129d4ea6f",
   "metadata": {},
   "outputs": [
    {
     "name": "stdout",
     "output_type": "stream",
     "text": [
      "slurmtrain runs count: 10\n",
      "slurmtrain run nums: [1, 2, 3, 4, 5, 6, 7, 8, 9, 10]\n",
      "images/data/srun8_fiforun_2jt-run30-rho60-run1_slurmtrain_dfacct.pkl\n",
      "images/data/srun8_fiforun_2jt-run30-rho60-run2_slurmtrain_dfacct.pkl\n",
      "images/data/srun8_fiforun_2jt-run30-rho60-run3_slurmtrain_dfacct.pkl\n",
      "images/data/srun8_fiforun_2jt-run30-rho60-run4_slurmtrain_dfacct.pkl\n",
      "images/data/srun8_fiforun_2jt-run30-rho60-run5_slurmtrain_dfacct.pkl\n",
      "images/data/srun8_fiforun_2jt-run30-rho60-run6_slurmtrain_dfacct.pkl\n",
      "images/data/srun8_fiforun_2jt-run30-rho60-run7_slurmtrain_dfacct.pkl\n",
      "images/data/srun8_fiforun_2jt-run30-rho60-run8_slurmtrain_dfacct.pkl\n",
      "images/data/srun8_fiforun_2jt-run30-rho60-run9_slurmtrain_dfacct.pkl\n",
      "images/data/srun8_fiforun_2jt-run30-rho60-run10_slurmtrain_dfacct.pkl\n"
     ]
    }
   ],
   "source": [
    "# Example for laoding runs:\n",
    "strain_dfacct_sorted, strain_run_nums, strain_searchstring = load_run_filelist(myrun_shortname, \"slurmtrain\", \"dfacct.pkl\", return_detail=True)\n",
    "\n",
    "if strain_dfacct_sorted: \n",
    "    print(f\"slurmtrain runs count: {len(strain_run_nums)}\")\n",
    "    print(f\"slurmtrain run nums: {strain_run_nums}\")\n",
    "    for x in strain_dfacct_sorted: print(x)\n",
    "else: \n",
    "    print(f\"No files found for search string: {strain_search_string}\\n in path: {save_data_path.absolute()}\")"
   ]
  },
  {
   "cell_type": "code",
   "execution_count": 60,
   "id": "ba63f8ce-0d11-4e1f-83a2-f8649115b819",
   "metadata": {},
   "outputs": [
    {
     "data": {
      "text/plain": [
       "[]"
      ]
     },
     "execution_count": 60,
     "metadata": {},
     "output_type": "execute_result"
    }
   ],
   "source": [
    "myrun_model = \"slurmtrain\"\n",
    "myrun_filename = \"dfacct.pkl\"\n",
    "file_search_string = f'*{myrun_shortname}_{myrun_model}*{myrun_filename}'\n",
    "\n",
    "list(Path(save_data_path).glob(\"*[-run*]_salabim*.pkl\"))"
   ]
  },
  {
   "cell_type": "markdown",
   "id": "c13ac167-7401-42b4-bb41-472c3ebaf6fa",
   "metadata": {},
   "source": [
    "# Load Run File List"
   ]
  },
  {
   "cell_type": "markdown",
   "id": "a85965b9-a9dc-4789-a9f2-7345b7ec61b7",
   "metadata": {},
   "source": [
    "## SlurmTrain"
   ]
  },
  {
   "cell_type": "markdown",
   "id": "e671ad1a-b4fa-4e83-87f3-2b92b89b4c7a",
   "metadata": {},
   "source": [
    "### Fifo Runs"
   ]
  },
  {
   "cell_type": "code",
   "execution_count": 61,
   "id": "32ab0f78-d6a7-4fe6-b95b-c67b57ddb114",
   "metadata": {},
   "outputs": [
    {
     "name": "stdout",
     "output_type": "stream",
     "text": [
      "strain_fifo_dfacct_sorted: 10\n",
      "strain_fifo_dfpetime_sorted: 10\n"
     ]
    }
   ],
   "source": [
    "strain_fifo_dfacct_sorted = load_run_filelist(myrun_shortname, \"slurmtrain\", \"dfacct.pkl\")\n",
    "strain_fifo_dfpetime_sorted = load_run_filelist(myrun_shortname, \"slurmtrain\", \"dfpetime.pkl\")\n",
    "# strain_fifo_dictbackfill_sorted = load_run_filelist(myrun_shortname, \"slurmtrain\", \"dictbackfill.pkl\")\n",
    "\n",
    "print(f\"strain_fifo_dfacct_sorted: {len(strain_fifo_dfacct_sorted)}\")\n",
    "print(f\"strain_fifo_dfpetime_sorted: {len(strain_fifo_dfpetime_sorted)}\")\n",
    "# print(f\"strain_fifo_dictbackfill_sorted: {len(strain_fifo_dictbackfill_sorted)}\")"
   ]
  },
  {
   "cell_type": "markdown",
   "id": "853d6b81-d24e-4744-af34-b405ee2b2a35",
   "metadata": {},
   "source": [
    "## Slurmsim"
   ]
  },
  {
   "cell_type": "markdown",
   "id": "df486a70-69a4-4e0d-bdb5-57d1855b9935",
   "metadata": {},
   "source": [
    "### Fifo Runs"
   ]
  },
  {
   "cell_type": "code",
   "execution_count": 62,
   "id": "44f37ec9-fac1-4220-a550-a24f8d6fc50a",
   "metadata": {},
   "outputs": [
    {
     "name": "stdout",
     "output_type": "stream",
     "text": [
      "slurmsim_fifo_dfacct_sorted: 10\n",
      "slurmsim_fifo_dfpetime_sorted: 10\n"
     ]
    }
   ],
   "source": [
    "slurmsim_fifo_dfacct_sorted = load_run_filelist(myrun_shortname, \"slurmsim\", \"dfacct.pkl\")\n",
    "slurmsim_fifo_dfpetime_sorted = load_run_filelist(myrun_shortname, \"slurmsim\", \"dfpetime.pkl\")\n",
    "# slurmsim_fifo_dictbackfill_sorted = load_run_filelist(myrun_shortname, \"slurmsim\", \"dictbackfill.pkl\")\n",
    "\n",
    "print(f\"slurmsim_fifo_dfacct_sorted: {len(slurmsim_fifo_dfacct_sorted)}\")\n",
    "print(f\"slurmsim_fifo_dfpetime_sorted: {len(slurmsim_fifo_dfpetime_sorted)}\")\n",
    "# print(f\"slurmsim_fifo_dictbackfill_sorted: {len(slurmsim_fifo_dictbackfill_sorted)}\")"
   ]
  },
  {
   "cell_type": "code",
   "execution_count": 63,
   "id": "374fe383-918d-438c-9ca0-44f15a36e286",
   "metadata": {},
   "outputs": [],
   "source": [
    "#### LOAD THESE FILESSSSS"
   ]
  },
  {
   "cell_type": "markdown",
   "id": "bd0237d1-573e-4295-accf-8410f274bab9",
   "metadata": {},
   "source": [
    "# Load Runs"
   ]
  },
  {
   "cell_type": "code",
   "execution_count": 64,
   "id": "1e62aa22-1548-4dd8-b609-f42f85a7b76a",
   "metadata": {},
   "outputs": [],
   "source": [
    "def calc_strain_wait(sacct_df):\n",
    "    \n",
    "    sacct_df.pe_req = sacct_df.pe_req.round(0).astype(int)\n",
    "    \n",
    "    wait_table = (sacct_df\n",
    "     .loc[:, ['Account', 'JobName', 'pe_req', 'wait_time', 'elapsed_time']]\n",
    "     .assign(job_prio =\n",
    "             lambda x: np.select([x.Account == \"training\", x.Account==\"crucial\"],\n",
    "                                 [1, 10]))\n",
    "     .rename(columns = {'elapsed_time':'run_time',\n",
    "                        'pe_req': 'job_pe_req',\n",
    "                        'JobName' : 'job_number'})\n",
    "     .groupby(['job_prio', 'job_pe_req'])\n",
    "#       .groupby(['job_prio'])\n",
    "      .agg({\n",
    "           \"wait_time\": [\"mean\"],\n",
    "           \"run_time\" : [\"mean\"],\n",
    "           \"job_number\" : [\"count\"] #,\n",
    "           # \"backfill\" : [\"sum\"]\n",
    "            })\n",
    "     .reset_index()\n",
    "    )\n",
    "    \n",
    "    wait_table.columns = wait_table.columns.map(\"_\".join).str.strip('_')\n",
    "    \n",
    "    return wait_table\n",
    "\n",
    "# # # Test:\n",
    "# sacct_df = pd.read_pickle(strain_dfacct_sorted[0], compression='infer')\n",
    "# w_strain = calc_strain_wait(sacct_df)\n",
    "# w_strain"
   ]
  },
  {
   "cell_type": "code",
   "execution_count": 65,
   "id": "f267ec86-5106-454e-90f8-6141977e6865",
   "metadata": {},
   "outputs": [],
   "source": [
    "def calc_sala_wait(df_jobs):\n",
    "    \n",
    "    df_jobs.job_pe_req = df_jobs.job_pe_req.round(0).astype(int)\n",
    "    \n",
    "    wait_table = (df_jobs\n",
    "    #      .merge(df_job_idx, on=\"job_name\", how=\"inner\")\n",
    "                  .loc[:, ['job_number', 'job_pe_req', \n",
    "                           'job_prio', 'wait_time', 'run_time', \n",
    "                           'backfill']]\n",
    "                   .groupby(['job_prio', 'job_pe_req'])\n",
    "#                   .groupby(['job_prio'])                  \n",
    "                  .agg({\n",
    "           \"wait_time\": [\"mean\"],\n",
    "           \"run_time\" : [\"mean\"],\n",
    "#            \"job_pe_req\" : [\"mean\"],\n",
    "           \"job_number\" : [\"count\"],\n",
    "           \"backfill\" : [\"sum\"]\n",
    "            })\n",
    "     .reset_index())\n",
    "\n",
    "    wait_table.columns = wait_table.columns.map(\"_\".join).str.strip('_')\n",
    "\n",
    "    return(wait_table)\n",
    "    \n",
    "# # Test\n",
    "# df_jobs = pd.read_pickle(salabim_dfjobs_sorted[0])\n",
    "# w_sala = calc_sala_wait(df_jobs)\n",
    "# w_sala"
   ]
  },
  {
   "cell_type": "markdown",
   "id": "3bd08642-3060-460a-840a-71da69857b8c",
   "metadata": {},
   "source": [
    "## SlurmTrain Runs"
   ]
  },
  {
   "cell_type": "code",
   "execution_count": 66,
   "id": "6cbab7bc-d314-498b-9b1a-a98bf37d59bc",
   "metadata": {},
   "outputs": [
    {
     "data": {
      "text/html": [
       "<div>\n",
       "<style scoped>\n",
       "    .dataframe tbody tr th:only-of-type {\n",
       "        vertical-align: middle;\n",
       "    }\n",
       "\n",
       "    .dataframe tbody tr th {\n",
       "        vertical-align: top;\n",
       "    }\n",
       "\n",
       "    .dataframe thead th {\n",
       "        text-align: right;\n",
       "    }\n",
       "</style>\n",
       "<table border=\"1\" class=\"dataframe\">\n",
       "  <thead>\n",
       "    <tr style=\"text-align: right;\">\n",
       "      <th></th>\n",
       "      <th>job_prio</th>\n",
       "      <th>job_pe_req</th>\n",
       "      <th>wait_time_mean</th>\n",
       "      <th>run_time_mean</th>\n",
       "      <th>job_number_count</th>\n",
       "      <th>Total_run_backfills</th>\n",
       "      <th>RunNum</th>\n",
       "      <th>RunType</th>\n",
       "      <th>SchedType</th>\n",
       "    </tr>\n",
       "  </thead>\n",
       "  <tbody>\n",
       "    <tr>\n",
       "      <th>0</th>\n",
       "      <td>1</td>\n",
       "      <td>1</td>\n",
       "      <td>2.254902</td>\n",
       "      <td>25.803922</td>\n",
       "      <td>102</td>\n",
       "      <td>0</td>\n",
       "      <td>1</td>\n",
       "      <td>slurmtrain</td>\n",
       "      <td>FIFO</td>\n",
       "    </tr>\n",
       "    <tr>\n",
       "      <th>1</th>\n",
       "      <td>1</td>\n",
       "      <td>3</td>\n",
       "      <td>6.183673</td>\n",
       "      <td>26.020408</td>\n",
       "      <td>98</td>\n",
       "      <td>0</td>\n",
       "      <td>1</td>\n",
       "      <td>slurmtrain</td>\n",
       "      <td>FIFO</td>\n",
       "    </tr>\n",
       "    <tr>\n",
       "      <th>0</th>\n",
       "      <td>1</td>\n",
       "      <td>1</td>\n",
       "      <td>2.319588</td>\n",
       "      <td>30.876289</td>\n",
       "      <td>97</td>\n",
       "      <td>0</td>\n",
       "      <td>2</td>\n",
       "      <td>slurmtrain</td>\n",
       "      <td>FIFO</td>\n",
       "    </tr>\n",
       "    <tr>\n",
       "      <th>1</th>\n",
       "      <td>1</td>\n",
       "      <td>3</td>\n",
       "      <td>9.407767</td>\n",
       "      <td>26.155340</td>\n",
       "      <td>103</td>\n",
       "      <td>0</td>\n",
       "      <td>2</td>\n",
       "      <td>slurmtrain</td>\n",
       "      <td>FIFO</td>\n",
       "    </tr>\n",
       "    <tr>\n",
       "      <th>0</th>\n",
       "      <td>1</td>\n",
       "      <td>1</td>\n",
       "      <td>4.634409</td>\n",
       "      <td>22.752688</td>\n",
       "      <td>93</td>\n",
       "      <td>0</td>\n",
       "      <td>3</td>\n",
       "      <td>slurmtrain</td>\n",
       "      <td>FIFO</td>\n",
       "    </tr>\n",
       "    <tr>\n",
       "      <th>1</th>\n",
       "      <td>1</td>\n",
       "      <td>3</td>\n",
       "      <td>11.831776</td>\n",
       "      <td>27.672897</td>\n",
       "      <td>107</td>\n",
       "      <td>0</td>\n",
       "      <td>3</td>\n",
       "      <td>slurmtrain</td>\n",
       "      <td>FIFO</td>\n",
       "    </tr>\n",
       "    <tr>\n",
       "      <th>0</th>\n",
       "      <td>1</td>\n",
       "      <td>1</td>\n",
       "      <td>3.361111</td>\n",
       "      <td>33.870370</td>\n",
       "      <td>108</td>\n",
       "      <td>0</td>\n",
       "      <td>4</td>\n",
       "      <td>slurmtrain</td>\n",
       "      <td>FIFO</td>\n",
       "    </tr>\n",
       "    <tr>\n",
       "      <th>1</th>\n",
       "      <td>1</td>\n",
       "      <td>3</td>\n",
       "      <td>4.804348</td>\n",
       "      <td>31.597826</td>\n",
       "      <td>92</td>\n",
       "      <td>0</td>\n",
       "      <td>4</td>\n",
       "      <td>slurmtrain</td>\n",
       "      <td>FIFO</td>\n",
       "    </tr>\n",
       "    <tr>\n",
       "      <th>0</th>\n",
       "      <td>1</td>\n",
       "      <td>1</td>\n",
       "      <td>7.965517</td>\n",
       "      <td>31.459770</td>\n",
       "      <td>87</td>\n",
       "      <td>0</td>\n",
       "      <td>5</td>\n",
       "      <td>slurmtrain</td>\n",
       "      <td>FIFO</td>\n",
       "    </tr>\n",
       "    <tr>\n",
       "      <th>1</th>\n",
       "      <td>1</td>\n",
       "      <td>3</td>\n",
       "      <td>10.672566</td>\n",
       "      <td>29.982301</td>\n",
       "      <td>113</td>\n",
       "      <td>0</td>\n",
       "      <td>5</td>\n",
       "      <td>slurmtrain</td>\n",
       "      <td>FIFO</td>\n",
       "    </tr>\n",
       "  </tbody>\n",
       "</table>\n",
       "</div>"
      ],
      "text/plain": [
       "   job_prio  job_pe_req  wait_time_mean  run_time_mean  job_number_count  \\\n",
       "0         1           1        2.254902      25.803922               102   \n",
       "1         1           3        6.183673      26.020408                98   \n",
       "0         1           1        2.319588      30.876289                97   \n",
       "1         1           3        9.407767      26.155340               103   \n",
       "0         1           1        4.634409      22.752688                93   \n",
       "1         1           3       11.831776      27.672897               107   \n",
       "0         1           1        3.361111      33.870370               108   \n",
       "1         1           3        4.804348      31.597826                92   \n",
       "0         1           1        7.965517      31.459770                87   \n",
       "1         1           3       10.672566      29.982301               113   \n",
       "\n",
       "   Total_run_backfills  RunNum     RunType SchedType  \n",
       "0                    0       1  slurmtrain      FIFO  \n",
       "1                    0       1  slurmtrain      FIFO  \n",
       "0                    0       2  slurmtrain      FIFO  \n",
       "1                    0       2  slurmtrain      FIFO  \n",
       "0                    0       3  slurmtrain      FIFO  \n",
       "1                    0       3  slurmtrain      FIFO  \n",
       "0                    0       4  slurmtrain      FIFO  \n",
       "1                    0       4  slurmtrain      FIFO  \n",
       "0                    0       5  slurmtrain      FIFO  \n",
       "1                    0       5  slurmtrain      FIFO  "
      ]
     },
     "execution_count": 66,
     "metadata": {},
     "output_type": "execute_result"
    }
   ],
   "source": [
    "# Read SlurmTrain BF Runs and make table with wait times\n",
    "\n",
    "strain_fifo_lst_wait = []\n",
    "\n",
    "num_runs = len(strain_fifo_dfacct_sorted)\n",
    "\n",
    "load_bf = False\n",
    "list_sacct = strain_fifo_dfacct_sorted\n",
    "list_petime = strain_fifo_dfpetime_sorted\n",
    "list_bf = None\n",
    "\n",
    "dic_st_fifo_sacct = {}\n",
    "dic_st_fifo_petime = {}\n",
    "dic_st_fifo_bfdata = {}\n",
    "\n",
    "for i in range(num_runs):\n",
    "    \n",
    "    # SAcct\n",
    "    sacct_path = list_sacct[i]\n",
    "    df_sacct = pd.read_pickle(sacct_path)\n",
    "    dic_st_fifo_sacct[i] = df_sacct\n",
    "    \n",
    "    # PE Time\n",
    "    petime_path = list_petime[i]\n",
    "    df_petime = pd.read_pickle(petime_path)    \n",
    "    dic_st_fifo_petime[i] = df_petime\n",
    "    \n",
    "    # BF Info\n",
    "    if load_bf:\n",
    "        bf_path = list_bf[i]\n",
    "        dic_bf = pd.read_pickle(bf_path)   # FIX THIS\n",
    "        dic_st_fifo_bfdata[i] = dic_bf\n",
    "    \n",
    "    # Calc Wait Time\n",
    "    strain_wait = calc_strain_wait(df_sacct)        \n",
    "    \n",
    "    if load_bf: \n",
    "        strain_wait['Total_run_backfills'] = dic_bf['backfill_count']\n",
    "    else: \n",
    "        strain_wait['Total_run_backfills'] = 0\n",
    "        \n",
    "    strain_wait['RunNum'] = i+1    \n",
    "    strain_wait['RunType'] = 'slurmtrain'\n",
    "    strain_wait['SchedType'] = 'FIFO'\n",
    "    \n",
    "    strain_fifo_lst_wait.append(strain_wait)\n",
    "    \n",
    "df_wait_fifo_strain = pd.concat(strain_fifo_lst_wait)\n",
    "\n",
    "df_wait_fifo_strain.head(10)"
   ]
  },
  {
   "cell_type": "markdown",
   "id": "4d6e02f5-82cb-4d57-a562-dcdef8aea365",
   "metadata": {},
   "source": [
    "## Slurmsim"
   ]
  },
  {
   "cell_type": "code",
   "execution_count": 67,
   "id": "30558cc1-c30b-4dfe-9685-c33c660d50fd",
   "metadata": {},
   "outputs": [
    {
     "data": {
      "text/html": [
       "<div>\n",
       "<style scoped>\n",
       "    .dataframe tbody tr th:only-of-type {\n",
       "        vertical-align: middle;\n",
       "    }\n",
       "\n",
       "    .dataframe tbody tr th {\n",
       "        vertical-align: top;\n",
       "    }\n",
       "\n",
       "    .dataframe thead th {\n",
       "        text-align: right;\n",
       "    }\n",
       "</style>\n",
       "<table border=\"1\" class=\"dataframe\">\n",
       "  <thead>\n",
       "    <tr style=\"text-align: right;\">\n",
       "      <th></th>\n",
       "      <th>job_prio</th>\n",
       "      <th>job_pe_req</th>\n",
       "      <th>wait_time_mean</th>\n",
       "      <th>run_time_mean</th>\n",
       "      <th>job_number_count</th>\n",
       "      <th>Total_run_backfills</th>\n",
       "      <th>RunNum</th>\n",
       "      <th>RunType</th>\n",
       "      <th>SchedType</th>\n",
       "    </tr>\n",
       "  </thead>\n",
       "  <tbody>\n",
       "    <tr>\n",
       "      <th>0</th>\n",
       "      <td>1</td>\n",
       "      <td>1</td>\n",
       "      <td>2.088235</td>\n",
       "      <td>25.666667</td>\n",
       "      <td>102</td>\n",
       "      <td>0</td>\n",
       "      <td>1</td>\n",
       "      <td>slurmsim</td>\n",
       "      <td>FIFO</td>\n",
       "    </tr>\n",
       "    <tr>\n",
       "      <th>1</th>\n",
       "      <td>1</td>\n",
       "      <td>3</td>\n",
       "      <td>5.989796</td>\n",
       "      <td>25.765306</td>\n",
       "      <td>98</td>\n",
       "      <td>0</td>\n",
       "      <td>1</td>\n",
       "      <td>slurmsim</td>\n",
       "      <td>FIFO</td>\n",
       "    </tr>\n",
       "    <tr>\n",
       "      <th>0</th>\n",
       "      <td>1</td>\n",
       "      <td>1</td>\n",
       "      <td>2.257732</td>\n",
       "      <td>30.639175</td>\n",
       "      <td>97</td>\n",
       "      <td>0</td>\n",
       "      <td>2</td>\n",
       "      <td>slurmsim</td>\n",
       "      <td>FIFO</td>\n",
       "    </tr>\n",
       "    <tr>\n",
       "      <th>1</th>\n",
       "      <td>1</td>\n",
       "      <td>3</td>\n",
       "      <td>9.359223</td>\n",
       "      <td>25.932039</td>\n",
       "      <td>103</td>\n",
       "      <td>0</td>\n",
       "      <td>2</td>\n",
       "      <td>slurmsim</td>\n",
       "      <td>FIFO</td>\n",
       "    </tr>\n",
       "    <tr>\n",
       "      <th>0</th>\n",
       "      <td>1</td>\n",
       "      <td>1</td>\n",
       "      <td>4.548387</td>\n",
       "      <td>22.591398</td>\n",
       "      <td>93</td>\n",
       "      <td>0</td>\n",
       "      <td>3</td>\n",
       "      <td>slurmsim</td>\n",
       "      <td>FIFO</td>\n",
       "    </tr>\n",
       "    <tr>\n",
       "      <th>1</th>\n",
       "      <td>1</td>\n",
       "      <td>3</td>\n",
       "      <td>11.766355</td>\n",
       "      <td>27.448598</td>\n",
       "      <td>107</td>\n",
       "      <td>0</td>\n",
       "      <td>3</td>\n",
       "      <td>slurmsim</td>\n",
       "      <td>FIFO</td>\n",
       "    </tr>\n",
       "    <tr>\n",
       "      <th>0</th>\n",
       "      <td>1</td>\n",
       "      <td>1</td>\n",
       "      <td>3.101852</td>\n",
       "      <td>33.666667</td>\n",
       "      <td>108</td>\n",
       "      <td>0</td>\n",
       "      <td>4</td>\n",
       "      <td>slurmsim</td>\n",
       "      <td>FIFO</td>\n",
       "    </tr>\n",
       "    <tr>\n",
       "      <th>1</th>\n",
       "      <td>1</td>\n",
       "      <td>3</td>\n",
       "      <td>4.695652</td>\n",
       "      <td>31.369565</td>\n",
       "      <td>92</td>\n",
       "      <td>0</td>\n",
       "      <td>4</td>\n",
       "      <td>slurmsim</td>\n",
       "      <td>FIFO</td>\n",
       "    </tr>\n",
       "    <tr>\n",
       "      <th>0</th>\n",
       "      <td>1</td>\n",
       "      <td>1</td>\n",
       "      <td>7.954023</td>\n",
       "      <td>31.321839</td>\n",
       "      <td>87</td>\n",
       "      <td>0</td>\n",
       "      <td>5</td>\n",
       "      <td>slurmsim</td>\n",
       "      <td>FIFO</td>\n",
       "    </tr>\n",
       "    <tr>\n",
       "      <th>1</th>\n",
       "      <td>1</td>\n",
       "      <td>3</td>\n",
       "      <td>10.823009</td>\n",
       "      <td>29.805310</td>\n",
       "      <td>113</td>\n",
       "      <td>0</td>\n",
       "      <td>5</td>\n",
       "      <td>slurmsim</td>\n",
       "      <td>FIFO</td>\n",
       "    </tr>\n",
       "  </tbody>\n",
       "</table>\n",
       "</div>"
      ],
      "text/plain": [
       "   job_prio  job_pe_req  wait_time_mean  run_time_mean  job_number_count  \\\n",
       "0         1           1        2.088235      25.666667               102   \n",
       "1         1           3        5.989796      25.765306                98   \n",
       "0         1           1        2.257732      30.639175                97   \n",
       "1         1           3        9.359223      25.932039               103   \n",
       "0         1           1        4.548387      22.591398                93   \n",
       "1         1           3       11.766355      27.448598               107   \n",
       "0         1           1        3.101852      33.666667               108   \n",
       "1         1           3        4.695652      31.369565                92   \n",
       "0         1           1        7.954023      31.321839                87   \n",
       "1         1           3       10.823009      29.805310               113   \n",
       "\n",
       "   Total_run_backfills  RunNum   RunType SchedType  \n",
       "0                    0       1  slurmsim      FIFO  \n",
       "1                    0       1  slurmsim      FIFO  \n",
       "0                    0       2  slurmsim      FIFO  \n",
       "1                    0       2  slurmsim      FIFO  \n",
       "0                    0       3  slurmsim      FIFO  \n",
       "1                    0       3  slurmsim      FIFO  \n",
       "0                    0       4  slurmsim      FIFO  \n",
       "1                    0       4  slurmsim      FIFO  \n",
       "0                    0       5  slurmsim      FIFO  \n",
       "1                    0       5  slurmsim      FIFO  "
      ]
     },
     "execution_count": 67,
     "metadata": {},
     "output_type": "execute_result"
    }
   ],
   "source": [
    "# Read SlurmTrain BF Runs and make table with wait times\n",
    "\n",
    "slurmsim_fifo_lst_wait = []\n",
    "\n",
    "num_runs = len(slurmsim_fifo_dfacct_sorted)\n",
    "\n",
    "load_bf = False\n",
    "list_sacct = slurmsim_fifo_dfacct_sorted\n",
    "list_petime = slurmsim_fifo_dfpetime_sorted\n",
    "list_bf = None\n",
    "\n",
    "dic_ss_fifo_sacct = {}\n",
    "dic_ss_fifo_petime = {}\n",
    "dic_ss_fifo_bfdata = {}\n",
    "\n",
    "for i in range(num_runs):\n",
    "    \n",
    "    # SAcct\n",
    "    sacct_path = list_sacct[i]\n",
    "    df_sacct = pd.read_pickle(sacct_path)\n",
    "    dic_ss_fifo_sacct[i] = df_sacct\n",
    "    \n",
    "    # PE Time\n",
    "    petime_path = list_petime[i]\n",
    "    df_petime = pd.read_pickle(petime_path)    \n",
    "    dic_ss_fifo_petime[i] = df_petime\n",
    "    \n",
    "    # BF Info\n",
    "    if load_bf:\n",
    "        bf_path = list_bf[i]\n",
    "        dic_bf = pd.read_pickle(bf_path)   # FIX THIS\n",
    "        dic_ss_fifo_bfdata[i] = dic_bf\n",
    "    \n",
    "    # Calc Wait Time\n",
    "    slurmsim_wait = calc_strain_wait(df_sacct)        \n",
    "    \n",
    "    if load_bf: \n",
    "        slurmsim_wait['Total_run_backfills'] = dic_bf['backfill_count']\n",
    "    else: \n",
    "        slurmsim_wait['Total_run_backfills'] = 0\n",
    "        \n",
    "    slurmsim_wait['RunNum'] = i+1    \n",
    "    slurmsim_wait['RunType'] = 'slurmsim'\n",
    "    slurmsim_wait['SchedType'] = 'FIFO'\n",
    "    \n",
    "    slurmsim_fifo_lst_wait.append(slurmsim_wait)\n",
    "    \n",
    "df_wait_fifo_slurmsim = pd.concat(slurmsim_fifo_lst_wait)\n",
    "\n",
    "df_wait_fifo_slurmsim.head(10)"
   ]
  },
  {
   "cell_type": "code",
   "execution_count": 68,
   "id": "0ecab9d8-471c-4ca0-b9ae-366dca772525",
   "metadata": {},
   "outputs": [
    {
     "data": {
      "text/html": [
       "<div>\n",
       "<style scoped>\n",
       "    .dataframe tbody tr th:only-of-type {\n",
       "        vertical-align: middle;\n",
       "    }\n",
       "\n",
       "    .dataframe tbody tr th {\n",
       "        vertical-align: top;\n",
       "    }\n",
       "\n",
       "    .dataframe thead th {\n",
       "        text-align: right;\n",
       "    }\n",
       "</style>\n",
       "<table border=\"1\" class=\"dataframe\">\n",
       "  <thead>\n",
       "    <tr style=\"text-align: right;\">\n",
       "      <th></th>\n",
       "      <th>job_prio</th>\n",
       "      <th>job_pe_req</th>\n",
       "      <th>wait_time_mean</th>\n",
       "      <th>run_time_mean</th>\n",
       "      <th>job_number_count</th>\n",
       "      <th>Total_run_backfills</th>\n",
       "      <th>RunNum</th>\n",
       "      <th>RunType</th>\n",
       "      <th>SchedType</th>\n",
       "    </tr>\n",
       "  </thead>\n",
       "  <tbody>\n",
       "    <tr>\n",
       "      <th>0</th>\n",
       "      <td>1</td>\n",
       "      <td>1</td>\n",
       "      <td>2.254902</td>\n",
       "      <td>25.803922</td>\n",
       "      <td>102</td>\n",
       "      <td>0</td>\n",
       "      <td>1</td>\n",
       "      <td>slurmtrain</td>\n",
       "      <td>FIFO</td>\n",
       "    </tr>\n",
       "    <tr>\n",
       "      <th>1</th>\n",
       "      <td>1</td>\n",
       "      <td>3</td>\n",
       "      <td>6.183673</td>\n",
       "      <td>26.020408</td>\n",
       "      <td>98</td>\n",
       "      <td>0</td>\n",
       "      <td>1</td>\n",
       "      <td>slurmtrain</td>\n",
       "      <td>FIFO</td>\n",
       "    </tr>\n",
       "    <tr>\n",
       "      <th>0</th>\n",
       "      <td>1</td>\n",
       "      <td>1</td>\n",
       "      <td>2.319588</td>\n",
       "      <td>30.876289</td>\n",
       "      <td>97</td>\n",
       "      <td>0</td>\n",
       "      <td>2</td>\n",
       "      <td>slurmtrain</td>\n",
       "      <td>FIFO</td>\n",
       "    </tr>\n",
       "    <tr>\n",
       "      <th>1</th>\n",
       "      <td>1</td>\n",
       "      <td>3</td>\n",
       "      <td>9.407767</td>\n",
       "      <td>26.155340</td>\n",
       "      <td>103</td>\n",
       "      <td>0</td>\n",
       "      <td>2</td>\n",
       "      <td>slurmtrain</td>\n",
       "      <td>FIFO</td>\n",
       "    </tr>\n",
       "    <tr>\n",
       "      <th>0</th>\n",
       "      <td>1</td>\n",
       "      <td>1</td>\n",
       "      <td>4.634409</td>\n",
       "      <td>22.752688</td>\n",
       "      <td>93</td>\n",
       "      <td>0</td>\n",
       "      <td>3</td>\n",
       "      <td>slurmtrain</td>\n",
       "      <td>FIFO</td>\n",
       "    </tr>\n",
       "  </tbody>\n",
       "</table>\n",
       "</div>"
      ],
      "text/plain": [
       "   job_prio  job_pe_req  wait_time_mean  run_time_mean  job_number_count  \\\n",
       "0         1           1        2.254902      25.803922               102   \n",
       "1         1           3        6.183673      26.020408                98   \n",
       "0         1           1        2.319588      30.876289                97   \n",
       "1         1           3        9.407767      26.155340               103   \n",
       "0         1           1        4.634409      22.752688                93   \n",
       "\n",
       "   Total_run_backfills  RunNum     RunType SchedType  \n",
       "0                    0       1  slurmtrain      FIFO  \n",
       "1                    0       1  slurmtrain      FIFO  \n",
       "0                    0       2  slurmtrain      FIFO  \n",
       "1                    0       2  slurmtrain      FIFO  \n",
       "0                    0       3  slurmtrain      FIFO  "
      ]
     },
     "execution_count": 68,
     "metadata": {},
     "output_type": "execute_result"
    }
   ],
   "source": [
    "# Combine data from the salabim and strain\n",
    "\n",
    "df_wait_combo = pd.concat([df_wait_fifo_strain, \n",
    "                           df_wait_fifo_slurmsim])\n",
    "\n",
    "df_wait_combo.head()"
   ]
  },
  {
   "cell_type": "code",
   "execution_count": 69,
   "id": "5d29aa7e-0127-4052-9979-a4c01f02e8e8",
   "metadata": {},
   "outputs": [],
   "source": [
    "# Write csv file\n",
    "save_csv = False\n",
    "if save_csv: \n",
    "    filename = f\"{myrun_shortname}_data.csv\"\n",
    "    df_wait_combo.to_csv(thesis_path / \"temp\" / filename)"
   ]
  },
  {
   "cell_type": "markdown",
   "id": "540ab6f2-08a6-4bfe-8917-b4a98662494d",
   "metadata": {},
   "source": [
    "## Plots"
   ]
  },
  {
   "cell_type": "code",
   "execution_count": 70,
   "id": "22ff2ba5-2d77-4459-945d-f544daa14bae",
   "metadata": {},
   "outputs": [
    {
     "data": {
      "text/html": [
       "<div>\n",
       "<style scoped>\n",
       "    .dataframe tbody tr th:only-of-type {\n",
       "        vertical-align: middle;\n",
       "    }\n",
       "\n",
       "    .dataframe tbody tr th {\n",
       "        vertical-align: top;\n",
       "    }\n",
       "\n",
       "    .dataframe thead th {\n",
       "        text-align: right;\n",
       "    }\n",
       "</style>\n",
       "<table border=\"1\" class=\"dataframe\">\n",
       "  <thead>\n",
       "    <tr style=\"text-align: right;\">\n",
       "      <th></th>\n",
       "      <th>job_prio</th>\n",
       "      <th>job_pe_req</th>\n",
       "      <th>wait_time_mean</th>\n",
       "      <th>run_time_mean</th>\n",
       "      <th>job_number_count</th>\n",
       "      <th>Total_run_backfills</th>\n",
       "      <th>RunNum</th>\n",
       "      <th>Model</th>\n",
       "      <th>SchedType</th>\n",
       "      <th>Job PE</th>\n",
       "    </tr>\n",
       "  </thead>\n",
       "  <tbody>\n",
       "    <tr>\n",
       "      <th>0</th>\n",
       "      <td>1</td>\n",
       "      <td>1</td>\n",
       "      <td>2.254902</td>\n",
       "      <td>25.803922</td>\n",
       "      <td>102</td>\n",
       "      <td>0</td>\n",
       "      <td>1</td>\n",
       "      <td>SlurmTrain</td>\n",
       "      <td>FIFO</td>\n",
       "      <td>1 PE</td>\n",
       "    </tr>\n",
       "    <tr>\n",
       "      <th>1</th>\n",
       "      <td>1</td>\n",
       "      <td>3</td>\n",
       "      <td>6.183673</td>\n",
       "      <td>26.020408</td>\n",
       "      <td>98</td>\n",
       "      <td>0</td>\n",
       "      <td>1</td>\n",
       "      <td>SlurmTrain</td>\n",
       "      <td>FIFO</td>\n",
       "      <td>3 PE</td>\n",
       "    </tr>\n",
       "    <tr>\n",
       "      <th>0</th>\n",
       "      <td>1</td>\n",
       "      <td>1</td>\n",
       "      <td>2.319588</td>\n",
       "      <td>30.876289</td>\n",
       "      <td>97</td>\n",
       "      <td>0</td>\n",
       "      <td>2</td>\n",
       "      <td>SlurmTrain</td>\n",
       "      <td>FIFO</td>\n",
       "      <td>1 PE</td>\n",
       "    </tr>\n",
       "    <tr>\n",
       "      <th>1</th>\n",
       "      <td>1</td>\n",
       "      <td>3</td>\n",
       "      <td>9.407767</td>\n",
       "      <td>26.155340</td>\n",
       "      <td>103</td>\n",
       "      <td>0</td>\n",
       "      <td>2</td>\n",
       "      <td>SlurmTrain</td>\n",
       "      <td>FIFO</td>\n",
       "      <td>3 PE</td>\n",
       "    </tr>\n",
       "    <tr>\n",
       "      <th>0</th>\n",
       "      <td>1</td>\n",
       "      <td>1</td>\n",
       "      <td>4.634409</td>\n",
       "      <td>22.752688</td>\n",
       "      <td>93</td>\n",
       "      <td>0</td>\n",
       "      <td>3</td>\n",
       "      <td>SlurmTrain</td>\n",
       "      <td>FIFO</td>\n",
       "      <td>1 PE</td>\n",
       "    </tr>\n",
       "  </tbody>\n",
       "</table>\n",
       "</div>"
      ],
      "text/plain": [
       "   job_prio  job_pe_req  wait_time_mean  run_time_mean  job_number_count  \\\n",
       "0         1           1        2.254902      25.803922               102   \n",
       "1         1           3        6.183673      26.020408                98   \n",
       "0         1           1        2.319588      30.876289                97   \n",
       "1         1           3        9.407767      26.155340               103   \n",
       "0         1           1        4.634409      22.752688                93   \n",
       "\n",
       "   Total_run_backfills  RunNum       Model SchedType Job PE  \n",
       "0                    0       1  SlurmTrain      FIFO   1 PE  \n",
       "1                    0       1  SlurmTrain      FIFO   3 PE  \n",
       "0                    0       2  SlurmTrain      FIFO   1 PE  \n",
       "1                    0       2  SlurmTrain      FIFO   3 PE  \n",
       "0                    0       3  SlurmTrain      FIFO   1 PE  "
      ]
     },
     "execution_count": 70,
     "metadata": {},
     "output_type": "execute_result"
    }
   ],
   "source": [
    "# Change names for plotting\n",
    "\n",
    "df_plot = df_wait_combo.copy()\n",
    "\n",
    "df_plot.loc[(df_plot.RunType == 'slurmsim'), 'RunType'] = 'SlurmSim'\n",
    "df_plot.loc[(df_plot.RunType == 'slurmtrain'), 'RunType'] = 'SlurmTrain'\n",
    "\n",
    "df_plot = df_plot.rename(columns = {'RunType':'Model'})\n",
    "\n",
    "df_plot['Job PE'] = df_plot.job_pe_req.astype(str) + \" PE\"\n",
    "\n",
    "\n",
    "# Split by Sched Type\n",
    "df_plot_st = df_plot.loc[df_plot.Model == 'SlurmTrain']\n",
    "df_plot_ssim = df_plot.loc[df_plot.Model == 'SlurmSim']\n",
    "\n",
    "df_plot.head()"
   ]
  },
  {
   "cell_type": "markdown",
   "id": "48de2922-5901-4cb0-b20a-a3cf3663e357",
   "metadata": {},
   "source": [
    "### FIFO"
   ]
  },
  {
   "cell_type": "code",
   "execution_count": 85,
   "id": "1cbf3acc-c921-4c51-90de-d839b832138a",
   "metadata": {},
   "outputs": [
    {
     "data": {
      "image/png": "[encoded data removed]",
      "text/plain": [
       "<Figure size 1008x504 with 1 Axes>"
      ]
     },
     "metadata": {},
     "output_type": "display_data"
    }
   ],
   "source": [
    "# n = 200\n",
    "\n",
    "fig, ax = plt.subplots(figsize=[14,7])\n",
    "# ax.xaxis.set_major_formatter(mdates.DateFormatter('%H:%M'))\n",
    "\n",
    "# runs=range(0,10)\n",
    "run = 3\n",
    "j = run-1\n",
    "st_acct = dic_st_fifo_sacct[j].loc[:, ['JobName', 'wait_time']].copy()\n",
    "st_acct['job_name'] = st_acct['JobName'].astype(int)\n",
    "st_acct['RunType'] = 'slurmtrain'\n",
    "st_acct['SchedType'] = 'BF'\n",
    "\n",
    "ssim_acct = dic_ss_fifo_sacct[j].loc[:, ['JobName', 'wait_time']].copy()\n",
    "ssim_acct['job_name'] = st_acct['JobName'].astype(int)\n",
    "ssim_acct['RunType'] = 'slurmsim'\n",
    "ssim_acct['SchedType'] = 'BF'\n",
    "\n",
    "compare_wait = pd.merge(left=st_acct, \n",
    "                        right=ssim_acct, \n",
    "                        how=\"inner\",\n",
    "                        on=\"job_name\",\n",
    "                        suffixes = (\"_st\", \"_ssim\")\n",
    "                        )\n",
    "\n",
    "compare_wait['Job Number'] = compare_wait.job_name - 1000 + 1\n",
    "\n",
    "\n",
    "# Plot\n",
    "ax.step(compare_wait['Job Number'], \n",
    "    compare_wait.wait_time_st,\n",
    "    where='post',\n",
    "    label = f\"SlurmTrain: FIFO\",\n",
    "    alpha=.5)\n",
    "\n",
    "# Plot \n",
    "ax.step(compare_wait['Job Number'], \n",
    "    compare_wait.wait_time_ssim,\n",
    "    where='post',\n",
    "    label = f\"SlurmSim: FIFO\",\n",
    "    alpha=.5,\n",
    "    c=\"#2ca02c\")\n",
    "    \n",
    "ax.legend()\n",
    "ax.set_xlabel('Job Number')\n",
    "# ax.set_ylabel(r'PE Available / Max PE')\n",
    "ax.set_ylabel('Waiting Time (sec)')\n",
    "\n",
    "myrun_models = f\"{myrun_type}_ssim_wait_step_plot_run{run}\"\n",
    "pltpath = f'{save_image_path}/{myrun_shortname}_{myrun_models}.png'\n",
    "\n",
    "plt.savefig(pltpath, facecolor='w', transparent=False)\n",
    "\n",
    "plt.show()"
   ]
  },
  {
   "cell_type": "code",
   "execution_count": 93,
   "id": "803747d3-69e3-408f-b40d-194e4435e424",
   "metadata": {},
   "outputs": [
    {
     "data": {
      "image/png": "[encoded data removed]",
      "text/plain": [
       "<Figure size 1008x504 with 1 Axes>"
      ]
     },
     "metadata": {},
     "output_type": "display_data"
    }
   ],
   "source": [
    "fig, ax = plt.subplots(figsize=[14,7])\n",
    "# ax.xaxis.set_major_formatter(mdates.DateFormatter('%H:%M'))\n",
    "\n",
    "runs=range(0,10)\n",
    "\n",
    "for j in runs:\n",
    "    st_acct = dic_st_fifo_sacct[j].loc[:, ['JobName', 'wait_time']].copy()\n",
    "    st_acct['job_name'] = st_acct['JobName'].astype(int)\n",
    "    st_acct['RunType'] = 'slurmtrain'\n",
    "    st_acct['SchedType'] = 'FIFO'\n",
    "\n",
    "    ssim_acct = dic_ss_fifo_sacct[j].loc[:, ['JobName', 'wait_time']].copy()\n",
    "    ssim_acct['job_name'] = st_acct['JobName'].astype(int)\n",
    "    ssim_acct['RunType'] = 'slurmsim'\n",
    "    ssim_acct['SchedType'] = 'FIFO'\n",
    "\n",
    "    compare_wait = pd.merge(left=st_acct, \n",
    "                            right=ssim_acct, \n",
    "                            how=\"inner\",\n",
    "                            on=\"job_name\",\n",
    "                            suffixes = (\"_st\", \"_ssim\")\n",
    "                            )\n",
    "\n",
    "    compare_wait['Job Number'] = compare_wait.job_name - 1000 + 1\n",
    "\n",
    "    \n",
    "    # Plot\n",
    "    ax.step(compare_wait['Job Number'], \n",
    "        compare_wait.wait_time_st - compare_wait.wait_time_ssim,\n",
    "        where='post',\n",
    "        label = f\"Jitter: SlurmTrain - SimPE\",\n",
    "        c=\"#2ca02c\",\n",
    "        alpha=.5,\n",
    "        )\n",
    "    \n",
    "# ax.legend()\n",
    "ax.set_xlabel('Job Number')\n",
    "# ax.set_ylabel(r'PE Available / Max PE')\n",
    "ax.set_ylabel('Waiting Time (sec)')\n",
    "\n",
    "myrun_models = f\"{myrun_type}_ssim_wait_jitter_plot\"\n",
    "pltpath = f'{save_image_path}/{myrun_shortname}_{myrun_models}.png'\n",
    "\n",
    "plt.savefig(pltpath, facecolor='w', transparent=False)\n",
    "\n",
    "plt.show()"
   ]
  },
  {
   "cell_type": "code",
   "execution_count": 73,
   "id": "d85c48f0-3a50-4f53-86d7-d2611977c57a",
   "metadata": {},
   "outputs": [],
   "source": [
    "# WHAT YOU WANT TO SHOW IS THE IMPROVEMENT ABOBE THE FIFO VERSION!!!!"
   ]
  },
  {
   "cell_type": "code",
   "execution_count": 74,
   "id": "e8be54b7-73a6-4a30-84de-2233ab5a9b37",
   "metadata": {},
   "outputs": [],
   "source": [
    "###"
   ]
  },
  {
   "cell_type": "markdown",
   "id": "efdaaae6-364e-44a0-88e1-25dedc7dced9",
   "metadata": {},
   "source": [
    "### Jitter Wait Delta: histogram"
   ]
  },
  {
   "cell_type": "code",
   "execution_count": 75,
   "id": "0dc4e564-380e-4c8d-97f8-68046916f68a",
   "metadata": {},
   "outputs": [],
   "source": [
    "runs=range(0,10)\n",
    "\n",
    "list_compare_wait = []\n",
    "\n",
    "for j in runs:\n",
    "    st_acct = dic_st_fifo_sacct[j].loc[:, ['JobName', 'wait_time']].copy()\n",
    "    st_acct['job_name'] = st_acct['JobName'].astype(int)\n",
    "    st_acct['RunType'] = 'slurmtrain'\n",
    "    st_acct['SchedType'] = 'FIFO'\n",
    "\n",
    "    ssim_jobs = dic_ss_fifo_sacct[j].loc[:, ['JobName', 'wait_time']].copy()\n",
    "    ssim_jobs['job_name'] = ssim_jobs['JobName'].astype(int)\n",
    "    ssim_jobs['RunType'] = 'slurmsim'\n",
    "    ssim_jobs['SchedType'] = 'FIFO'\n",
    "\n",
    "    compare_wait = pd.merge(left=st_acct, \n",
    "                            right=ssim_jobs, \n",
    "                            how=\"inner\",\n",
    "                            on=\"job_name\",\n",
    "                            suffixes = (\"_st\", \"_ssim\")\n",
    "                            )\n",
    "    \n",
    "    compare_wait['Job Number'] = compare_wait.job_name - 1000 + 1\n",
    "    compare_wait['run_num'] = j+1\n",
    "    \n",
    "    compare_wait['delta_wait'] = compare_wait.wait_time_st - compare_wait.wait_time_ssim\n",
    "  \n",
    "    list_compare_wait.append(compare_wait)\n",
    "\n",
    "#     # Plot\n",
    "#     ax.step(compare_wait['Job Number'], \n",
    "#         compare_wait.wait_time_st - compare_wait.wait_time_sala,\n",
    "#         where='post',\n",
    "#         label = f\"Jitter: SlurmTrain - SimPE\",\n",
    "#         c='g',\n",
    "#         alpha=.5,\n",
    "#         )\n",
    "\n",
    "compare_wait_all = (pd.concat(list_compare_wait)\n",
    "                    .reset_index(drop=True)\n",
    "                    .loc[:, [\"run_num\", \"SchedType_st\", \"Job Number\",\"job_name\", \n",
    "                             \"wait_time_st\", \"wait_time_ssim\", \"delta_wait\"]]\n",
    "                   )"
   ]
  },
  {
   "cell_type": "code",
   "execution_count": 76,
   "id": "8fb0e80a-2cc4-48ee-be21-47fbaaa87d3f",
   "metadata": {},
   "outputs": [],
   "source": [
    "# # RECORD OF DIFFERENT WAYS TO PLOT HISTOGRAM\n",
    "\n",
    "# j = 0\n",
    "# x = list_compare_wait[j].delta_wait\n",
    "    \n",
    "# # sns.histplot(list_compare_wait[j].delta_wait)\n",
    "# # plt.hist(x, density=True)\n",
    "\n",
    "# counts, bins = np.histogram(x)\n",
    "# plt.bar(bins[:-1], counts, width=(bins[1]-bins[0]))\n",
    "# hist(x, bins='knuth', density=True)\n",
    "\n",
    "# # n, bins, patches = hist(x, bins=\"knuth\", density=True) # For continues x\n",
    "# # showbins = np.round(bins, 1)\n",
    "\n",
    "# # n, bins, patches = hist(x, density=True) # For discrete x\n",
    "# # showbins = bins.astype(int)\n",
    "\n",
    "# # # centre labels\n",
    "# # n_bins =len(bins)-1\n",
    "# # ticks = [(patch._x0 + patch._x1)/2 for patch in patches]\n",
    "# # ticklabels = [showbins[i] for i in range(n_bins)]\n",
    "# # plt.xticks(ticks, ticklabels)\n",
    "\n",
    "# plt.title(f\"Run {j+1}\")\n",
    "# plt.show()"
   ]
  },
  {
   "cell_type": "code",
   "execution_count": 77,
   "id": "56f6fcbe-80e1-467a-98ef-f71f39817b28",
   "metadata": {},
   "outputs": [],
   "source": [
    "from astropy.visualization import hist"
   ]
  },
  {
   "cell_type": "code",
   "execution_count": 78,
   "id": "fda2ad02-546f-4e8e-a692-d498f1ce7686",
   "metadata": {},
   "outputs": [
    {
     "data": {
      "image/png": "[encoded data removed]",
      "text/plain": [
       "<Figure size 432x288 with 1 Axes>"
      ]
     },
     "metadata": {
      "needs_background": "light"
     },
     "output_type": "display_data"
    },
    {
     "data": {
      "image/png": "[encoded data removed]",
      "text/plain": [
       "<Figure size 432x288 with 1 Axes>"
      ]
     },
     "metadata": {
      "needs_background": "light"
     },
     "output_type": "display_data"
    },
    {
     "data": {
      "image/png": "[encoded data removed]",
      "text/plain": [
       "<Figure size 432x288 with 1 Axes>"
      ]
     },
     "metadata": {
      "needs_background": "light"
     },
     "output_type": "display_data"
    },
    {
     "data": {
      "image/png": "[encoded data removed]",
      "text/plain": [
       "<Figure size 432x288 with 1 Axes>"
      ]
     },
     "metadata": {
      "needs_background": "light"
     },
     "output_type": "display_data"
    },
    {
     "data": {
      "image/png": "[encoded data removed]",
      "text/plain": [
       "<Figure size 432x288 with 1 Axes>"
      ]
     },
     "metadata": {
      "needs_background": "light"
     },
     "output_type": "display_data"
    },
    {
     "data": {
      "image/png": "[encoded data removed]",
      "text/plain": [
       "<Figure size 432x288 with 1 Axes>"
      ]
     },
     "metadata": {
      "needs_background": "light"
     },
     "output_type": "display_data"
    },
    {
     "data": {
      "image/png": "[encoded data removed]",
      "text/plain": [
       "<Figure size 432x288 with 1 Axes>"
      ]
     },
     "metadata": {
      "needs_background": "light"
     },
     "output_type": "display_data"
    },
    {
     "data": {
      "image/png": "[encoded data removed]",
      "text/plain": [
       "<Figure size 432x288 with 1 Axes>"
      ]
     },
     "metadata": {
      "needs_background": "light"
     },
     "output_type": "display_data"
    },
    {
     "data": {
      "image/png": "[encoded data removed]",
      "text/plain": [
       "<Figure size 432x288 with 1 Axes>"
      ]
     },
     "metadata": {
      "needs_background": "light"
     },
     "output_type": "display_data"
    },
    {
     "data": {
      "image/png": "[encoded data removed]",
      "text/plain": [
       "<Figure size 432x288 with 1 Axes>"
      ]
     },
     "metadata": {
      "needs_background": "light"
     },
     "output_type": "display_data"
    }
   ],
   "source": [
    "# Plot histogram\n",
    "for j in range(10):\n",
    "\n",
    "    x = list_compare_wait[j].delta_wait\n",
    "    \n",
    "    # sns.histplot(list_compare_wait[j].delta_wait, stat = 'density')\n",
    "    n, bins, patches = hist(x, bins='scott', density=True)\n",
    "#     n, bins, patches = hist(x, bins='freedman', density=True)\n",
    "#     hist(x, bins=\"knuth\", density=True)\n",
    "    \n",
    "    plt.title(f\"Run {j+1}\")\n",
    "    plt.show()"
   ]
  },
  {
   "cell_type": "code",
   "execution_count": 79,
   "id": "bc8bbfa9-86b2-408b-9f71-3be86cf8d7c2",
   "metadata": {},
   "outputs": [
    {
     "data": {
      "image/png": "[encoded data removed]",
      "text/plain": [
       "<Figure size 432x288 with 1 Axes>"
      ]
     },
     "metadata": {
      "needs_background": "light"
     },
     "output_type": "display_data"
    },
    {
     "data": {
      "image/png": "[encoded data removed]",
      "text/plain": [
       "<Figure size 432x288 with 1 Axes>"
      ]
     },
     "metadata": {
      "needs_background": "light"
     },
     "output_type": "display_data"
    },
    {
     "data": {
      "image/png": "[encoded data removed]",
      "text/plain": [
       "<Figure size 432x288 with 1 Axes>"
      ]
     },
     "metadata": {
      "needs_background": "light"
     },
     "output_type": "display_data"
    },
    {
     "data": {
      "image/png": "[encoded data removed]",
      "text/plain": [
       "<Figure size 432x288 with 1 Axes>"
      ]
     },
     "metadata": {
      "needs_background": "light"
     },
     "output_type": "display_data"
    },
    {
     "data": {
      "image/png": "[encoded data removed]",
      "text/plain": [
       "<Figure size 432x288 with 1 Axes>"
      ]
     },
     "metadata": {
      "needs_background": "light"
     },
     "output_type": "display_data"
    },
    {
     "data": {
      "image/png": "[encoded data removed]",
      "text/plain": [
       "<Figure size 432x288 with 1 Axes>"
      ]
     },
     "metadata": {
      "needs_background": "light"
     },
     "output_type": "display_data"
    },
    {
     "data": {
      "image/png": "[encoded data removed]",
      "text/plain": [
       "<Figure size 432x288 with 1 Axes>"
      ]
     },
     "metadata": {
      "needs_background": "light"
     },
     "output_type": "display_data"
    },
    {
     "data": {
      "image/png": "[encoded data removed]",
      "text/plain": [
       "<Figure size 432x288 with 1 Axes>"
      ]
     },
     "metadata": {
      "needs_background": "light"
     },
     "output_type": "display_data"
    },
    {
     "data": {
      "image/png": "[encoded data removed]",
      "text/plain": [
       "<Figure size 432x288 with 1 Axes>"
      ]
     },
     "metadata": {
      "needs_background": "light"
     },
     "output_type": "display_data"
    },
    {
     "data": {
      "image/png": "[encoded data removed]",
      "text/plain": [
       "<Figure size 432x288 with 1 Axes>"
      ]
     },
     "metadata": {
      "needs_background": "light"
     },
     "output_type": "display_data"
    }
   ],
   "source": [
    "# # Plot normalised histogram\n",
    "for j in range(10):\n",
    "    x = list_compare_wait[j].delta_wait\n",
    "    mu_x = np.mean(x)\n",
    "    sd_x = np.nanstd(x)\n",
    "    x_norm = (x - mu_x) / sd_x\n",
    "    \n",
    "#     sns.histplot(list_compare_wait[j].delta_wait, stat = 'density')\n",
    "    n, bins, patches = hist(x_norm, bins='scott')\n",
    "    \n",
    "    plt.title(f\"Run {j+1}. Normalised with mu: {mu_x:.2f}, sd: {sd_x: .2f} \")\n",
    "    plt.show()"
   ]
  },
  {
   "cell_type": "code",
   "execution_count": 80,
   "id": "5741d675-63bb-4e1b-aaf3-93c326702a32",
   "metadata": {},
   "outputs": [
    {
     "data": {
      "image/png": "[encoded data removed]",
      "text/plain": [
       "<Figure size 504x504 with 1 Axes>"
      ]
     },
     "metadata": {
      "needs_background": "light"
     },
     "output_type": "display_data"
    }
   ],
   "source": [
    "from scipy.stats import norm\n",
    "\n",
    "# Plot normalised histogram\n",
    "combined_x_norm = []\n",
    "for j in range(10):\n",
    "    x = list_compare_wait[j].delta_wait\n",
    "    mu_x = np.mean(x)\n",
    "    sd_x = np.nanstd(x)\n",
    "    x_norm = (x - mu_x) / sd_x\n",
    "    combined_x_norm = x\n",
    "    \n",
    "# Plot\n",
    "fig, ax = plt.subplots(figsize=[7,7])\n",
    "n, bins, patches = hist(combined_x_norm, bins='scott', density=True, ax = ax)\n",
    "\n",
    "# Fit a normal distribution to\n",
    "# the data:\n",
    "# mean and standard deviation\n",
    "mu, std = norm.fit(combined_x_norm) \n",
    "\n",
    "# Plot the PDF.\n",
    "xmin, xmax = plt.xlim()\n",
    "x_axis = np.linspace(xmin, xmax, 100)\n",
    "p = norm.pdf(x_axis, mu, std)\n",
    "\n",
    "plt.plot(x_axis, p, 'k', linewidth=1, label=f\"Norm pdf (mu={mu:.2f}, {std:.2f})\")\n",
    "\n",
    "ax.legend()\n",
    "\n",
    "plt.title(f\"Combined delta wait (runs not normalised)\")\n",
    "plt.show()"
   ]
  },
  {
   "cell_type": "markdown",
   "id": "b401d69c-b313-45d1-b56e-62c302b0584d",
   "metadata": {},
   "source": [
    "### Waiting time"
   ]
  },
  {
   "cell_type": "code",
   "execution_count": 81,
   "id": "b4329fe6-cf56-497d-b3d4-b52823cece56",
   "metadata": {},
   "outputs": [
    {
     "data": {
      "image/png": "[encoded data removed]",
      "text/plain": [
       "<Figure size 1008x504 with 1 Axes>"
      ]
     },
     "metadata": {
      "needs_background": "light"
     },
     "output_type": "display_data"
    }
   ],
   "source": [
    "# Lets show this on one graph\n",
    "\n",
    "fig, ax =plt.subplots(figsize=(14,7))\n",
    "\n",
    "sns.set_style(\"ticks\", {'axes.grid' : True})\n",
    "\n",
    "p1 = sns.scatterplot(data=df_plot, \n",
    "                     x = \"RunNum\",\n",
    "                     y = \"wait_time_mean\",\n",
    "                     hue=\"Model\",\n",
    "                     ax = ax,\n",
    "                     zorder = 10,\n",
    "                     legend = None,\n",
    "                     palette=\"tab10\"\n",
    "                     )\n",
    "\n",
    "p2 = sns.lineplot(data=df_plot,\n",
    "                  x = \"RunNum\",\n",
    "                  y = \"wait_time_mean\",\n",
    "                  hue = \"Model\",\n",
    "                  style = \"Job PE\",\n",
    "#                   style_order = (3,1),\n",
    "                  ci = None,\n",
    "                  palette=\"tab10\",\n",
    "                  ax = ax)\n",
    "\n",
    "plt.xlabel(\"Run Number\")\n",
    "plt.ylabel(\"Average Waiting Time\")\n",
    "\n",
    "plt.show()"
   ]
  },
  {
   "cell_type": "code",
   "execution_count": 82,
   "id": "c07ff9b9-6d68-4574-aff9-c0196d2cd038",
   "metadata": {},
   "outputs": [],
   "source": [
    "# TWO GRAPHS: \n",
    "# SLURMSIM VS SLURMTRAIN\n",
    "# FIFO VS BF  -> wys backfills speed up "
   ]
  },
  {
   "cell_type": "code",
   "execution_count": 83,
   "id": "4a00f3f7-d9b9-48cb-8a7d-5eb0d0ea51b0",
   "metadata": {},
   "outputs": [
    {
     "ename": "NameError",
     "evalue": "name 'df_plot_no8' is not defined",
     "output_type": "error",
     "traceback": [
      "\u001b[0;31m---------------------------------------------------------------------------\u001b[0m",
      "\u001b[0;31mNameError\u001b[0m                                 Traceback (most recent call last)",
      "\u001b[0;32m<ipython-input-83-8b908b091e20>\u001b[0m in \u001b[0;36m<module>\u001b[0;34m()\u001b[0m\n\u001b[1;32m      8\u001b[0m \u001b[0msns\u001b[0m\u001b[0;34m.\u001b[0m\u001b[0mset_style\u001b[0m\u001b[0;34m(\u001b[0m\u001b[0;34m\"ticks\"\u001b[0m\u001b[0;34m,\u001b[0m \u001b[0;34m{\u001b[0m\u001b[0;34m'axes.grid'\u001b[0m \u001b[0;34m:\u001b[0m \u001b[0;32mTrue\u001b[0m\u001b[0;34m}\u001b[0m\u001b[0;34m)\u001b[0m\u001b[0;34m\u001b[0m\u001b[0;34m\u001b[0m\u001b[0m\n\u001b[1;32m      9\u001b[0m \u001b[0;34m\u001b[0m\u001b[0m\n\u001b[0;32m---> 10\u001b[0;31m p1 = sns.scatterplot(data=df_plot_no8, \n\u001b[0m\u001b[1;32m     11\u001b[0m                      \u001b[0mx\u001b[0m \u001b[0;34m=\u001b[0m \u001b[0;34m\"RunNum\"\u001b[0m\u001b[0;34m,\u001b[0m\u001b[0;34m\u001b[0m\u001b[0;34m\u001b[0m\u001b[0m\n\u001b[1;32m     12\u001b[0m                      \u001b[0my\u001b[0m \u001b[0;34m=\u001b[0m \u001b[0;34m\"wait_time_mean\"\u001b[0m\u001b[0;34m,\u001b[0m\u001b[0;34m\u001b[0m\u001b[0;34m\u001b[0m\u001b[0m\n",
      "\u001b[0;31mNameError\u001b[0m: name 'df_plot_no8' is not defined"
     ]
    },
    {
     "data": {
      "image/png": "[encoded data removed]",
      "text/plain": [
       "<Figure size 1008x504 with 1 Axes>"
      ]
     },
     "metadata": {},
     "output_type": "display_data"
    }
   ],
   "source": [
    "# No 8 version\n",
    "\n",
    "import matplotlib.pyplot as plt\n",
    "import seaborn as sns\n",
    "\n",
    "fig, ax =plt.subplots(figsize=(14,7))\n",
    "\n",
    "sns.set_style(\"ticks\", {'axes.grid' : True})\n",
    "\n",
    "p1 = sns.scatterplot(data=df_plot_no8, \n",
    "                     x = \"RunNum\",\n",
    "                     y = \"wait_time_mean\",\n",
    "                     hue=\"Model\",\n",
    "                     ax = ax,\n",
    "                     zorder = 10,\n",
    "                     legend = None,\n",
    "                     palette=\"tab10\"\n",
    "                     )\n",
    "\n",
    "p2 = sns.lineplot(data=df_plot_no8,\n",
    "                  x = \"RunNum\",\n",
    "                  y = \"wait_time_mean\",\n",
    "                  hue = \"Model\",\n",
    "                  style = \"Job PE\",\n",
    "#                   style_order = (3,1),\n",
    "                  ci = None,\n",
    "                  palette=\"tab10\",\n",
    "                  ax = ax)\n",
    "\n",
    "plt.xlabel(\"Run Number\")\n",
    "plt.ylabel(\"Average Waiting Time\")\n",
    "\n",
    "plt.show()"
   ]
  },
  {
   "cell_type": "code",
   "execution_count": null,
   "id": "f6f01765-deae-4d88-a9fc-cffa77dc3774",
   "metadata": {},
   "outputs": [],
   "source": [
    "# IDEA FOR FOLLOW UP GRAPH :  actual running times of jobs vs expected times ... "
   ]
  },
  {
   "cell_type": "markdown",
   "id": "6beec716-7ebc-4c54-8878-cd4f9c632d45",
   "metadata": {},
   "source": [
    "#### Volgende probeerslae"
   ]
  },
  {
   "cell_type": "code",
   "execution_count": null,
   "id": "2ffe3045-35ad-41ad-93a9-ef9b598cd1ef",
   "metadata": {},
   "outputs": [],
   "source": [
    "# Plot the wait times over the 10 runs\n",
    "\n",
    "import matplotlib.pyplot as plt\n",
    "import seaborn as sns\n",
    "\n",
    "# Set a grid layout\n",
    "sns.set_style(\"ticks\", {'axes.grid' : True})\n",
    "\n",
    "g = sns.FacetGrid(df_plot, \n",
    "                  col=\"Job PE\", \n",
    "                  hue=\"Model\", \n",
    "                  height=7, \n",
    "                  aspect=1, \n",
    "                  palette=\"tab10\")\n",
    "\n",
    "# Draw line plot\n",
    "g.map(sns.lineplot, \"RunNum\", \"wait_time_mean\")\n",
    "\n",
    "# Draw scatter plots (dot plots) with circle markers\n",
    "g.map(sns.scatterplot, \"RunNum\", \"wait_time_mean\", \n",
    "      s=100, \n",
    "      edgecolor=None, \n",
    "      marker=\"o\")\n",
    "\n",
    "# Add a legend\n",
    "g.add_legend()\n",
    "\n",
    "# Set plot title and labels\n",
    "g.set_axis_labels(\"Run Number\", \"Average Waiting Time\")\n",
    "plt.subplots_adjust(top=0.85)\n",
    "g.fig.suptitle('Difference in Average Waiting Time between SimPE and SlurmTrain for Backfill Jobs')\n",
    "\n",
    "plt.show()"
   ]
  },
  {
   "cell_type": "code",
   "execution_count": null,
   "id": "1753b5de-90e5-4ff5-96e7-d49a586a36f7",
   "metadata": {},
   "outputs": [],
   "source": [
    "# from plotnine import ggplot, geom_point, aes, stat_smooth, facet_wrap\n",
    "# from plotnine.data import mtcars\n",
    "\n",
    "# (ggplot(mtcars, aes(\"wt\", \"mpg\", color=\"factor(gear)\"))\n",
    "#  + geom_point()\n",
    "#  + stat_smooth(method=\"lm\")\n",
    "#  + facet_wrap(\"~gear\"))"
   ]
  },
  {
   "cell_type": "code",
   "execution_count": null,
   "id": "b62a41da-5270-4008-baae-dcbeb7c8ab69",
   "metadata": {},
   "outputs": [],
   "source": [
    "# Plot the wait times over the 10 runs\n",
    "\n",
    "import matplotlib.pyplot as plt\n",
    "import seaborn as sns\n",
    "\n",
    "# Set a grid layout\n",
    "sns.set_style(\"ticks\", {'axes.grid' : True})\n",
    "\n",
    "g = sns.FacetGrid(df_plot, \n",
    "                  col=\"Job PE\", \n",
    "                  hue=\"Model\", \n",
    "                  height=7, \n",
    "                  aspect=1, \n",
    "                  palette=\"tab10\")\n",
    "\n",
    "# Draw line plot\n",
    "g.map(sns.lineplot, \"RunNum\", \"wait_time_mean\")\n",
    "\n",
    "# Draw scatter plots (dot plots) with circle markers\n",
    "g.map(sns.scatterplot, \"RunNum\", \"wait_time_mean\", \n",
    "      s=100, \n",
    "      edgecolor=None, \n",
    "      marker=\"o\")\n",
    "\n",
    "# Add a legend\n",
    "g.add_legend()\n",
    "\n",
    "# Set plot title and labels\n",
    "g.set_axis_labels(\"Run Number\", \"Average Waiting Time\")\n",
    "plt.subplots_adjust(top=0.85)\n",
    "g.fig.suptitle('Difference in Average Waiting Time between SimPE and SlurmTrain for FIFO Jobs')\n",
    "\n",
    "plt.show()"
   ]
  },
  {
   "cell_type": "code",
   "execution_count": null,
   "id": "ec2085f6-f660-45ad-93b8-71d463bf2e4a",
   "metadata": {},
   "outputs": [],
   "source": [
    "sns.relplot(data = df_plot,\n",
    "            x=\"RunNum\",\n",
    "            y=\"wait_time_mean\",\n",
    "#              col = \"Job PE\",\n",
    "            size = \"Job PE\",\n",
    "            sizes = (50,200),\n",
    "            hue=\"Model\",\n",
    "            height=7,\n",
    "            aspect=1,\n",
    "            kind = \"scatter\"\n",
    "            )\n",
    "\n",
    "plt.show()"
   ]
  },
  {
   "cell_type": "code",
   "execution_count": null,
   "id": "4fb79c85-20ff-480c-85ec-ba20363c3ed4",
   "metadata": {},
   "outputs": [],
   "source": [
    "# Create a scatter plot\n",
    "plt.figure(figsize=(14, 7))\n",
    "\n",
    "sns.set_style(\"ticks\", {'axes.grid' : True})\n",
    "sns.scatterplot(x=\"RunNum\", \n",
    "                y=\"wait_time_mean\", \n",
    "                hue=\"Model\", \n",
    "                size=\"Job PE\", \n",
    "                sizes=(50, 200), \n",
    "                data=df_plot, \n",
    "                palette=\"tab10\", \n",
    "                edgecolor=None, marker=\"o\")\n",
    "\n",
    "# Set plot title and labels\n",
    "plt.title('Average Waiting Time for Different Run Types over Runs')\n",
    "plt.xlabel('Run Number')\n",
    "plt.ylabel('Average Waiting Time')\n",
    "\n",
    "# Add a legend\n",
    "plt.legend(bbox_to_anchor=(1.05, 1), loc=2, borderaxespad=0.)\n",
    "\n",
    "plt.show()"
   ]
  },
  {
   "cell_type": "code",
   "execution_count": null,
   "id": "691cb116-9a75-4390-b2b6-efe565082b9f",
   "metadata": {},
   "outputs": [],
   "source": [
    "# Create a scatter plot\n",
    "plt.figure(figsize=(14, 7))\n",
    "\n",
    "scatter = sns.scatterplot(x=\"RunNum\", \n",
    "                          y=\"wait_time_mean\", \n",
    "                          hue=\"Model\", \n",
    "                          size=\"Job PE\", \n",
    "                          sizes=(50, 200), \n",
    "                          data=df_plot, \n",
    "                          palette=\"tab10\", \n",
    "                          edgecolor=None, \n",
    "                          marker=\"o\")\n",
    "\n",
    "# Set plot title and labels\n",
    "plt.title('Average Waiting Time for Different Run Types over Runs')\n",
    "plt.xlabel('Run Number')\n",
    "plt.ylabel('Average Waiting Time')\n",
    "\n",
    "# Handle the legend: split it into two parts\n",
    "handles, labels = scatter.get_legend_handles_labels()\n",
    "\n",
    "# Show legend for RunType\n",
    "legend1 = plt.legend(handles=handles[1:3], labels=labels[1:3], title=\"RunType\", bbox_to_anchor=(1.05, 1), loc=2, borderaxespad=0., handletextpad=0.1)\n",
    "plt.gca().add_artist(legend1)\n",
    "\n",
    "# Show legend for job_pe_req\n",
    "plt.legend(handles=handles[3:], labels=labels[3:], title=\"\", bbox_to_anchor=(1.05, 0.5), loc=2, borderaxespad=0., handletextpad=0.1)\n",
    "\n",
    "plt.show()"
   ]
  },
  {
   "cell_type": "markdown",
   "id": "5c0b39b5-b968-4b21-bd88-2cfaec9d48da",
   "metadata": {},
   "source": [
    "## Junk"
   ]
  },
  {
   "cell_type": "code",
   "execution_count": null,
   "id": "00576814-b2a6-48e6-a303-94ebd94ff9e8",
   "metadata": {},
   "outputs": [],
   "source": [
    "# rng = np.random.default_rng()\n",
    "# rng"
   ]
  },
  {
   "cell_type": "code",
   "execution_count": null,
   "id": "79491d1b-16e9-49d3-be9f-ce2fc958353e",
   "metadata": {},
   "outputs": [],
   "source": [
    "# # T-test example\n",
    "\n",
    "# rvs1 = stats.expon.rvs(loc=10,size=100,random_state=rng)\n",
    "# rvs2 = (rvs1stats.expon.rvs(loc=10,size=100,random_state=rng)\n",
    "#        )\n",
    "#         # rvs1[1] = np.nan\n",
    "# a = stats.ttest_rel(rvs1, rvs2)\n",
    "\n",
    "# print(a.statistic)\n",
    "# print(a.pvalue)"
   ]
  },
  {
   "cell_type": "code",
   "execution_count": null,
   "id": "d73b5cf5-e87c-42ab-a631-5a546b96d34b",
   "metadata": {},
   "outputs": [],
   "source": [
    "# rvs1"
   ]
  },
  {
   "cell_type": "code",
   "execution_count": null,
   "id": "602e4173-36ca-4ebf-b453-6de39e80e532",
   "metadata": {},
   "outputs": [],
   "source": [
    "# rvs2"
   ]
  },
  {
   "cell_type": "code",
   "execution_count": null,
   "id": "55468541-1122-44c0-bff8-754921a9ff12",
   "metadata": {},
   "outputs": [],
   "source": [
    "# %run ./srun8_slurmtrain.ipynb"
   ]
  }
 ],
 "metadata": {
  "kernelspec": {
   "display_name": "Python 3",
   "language": "python",
   "name": "python3"
  },
  "language_info": {
   "codemirror_mode": {
    "name": "ipython",
    "version": 3
   },
   "file_extension": ".py",
   "mimetype": "text/x-python",
   "name": "python",
   "nbconvert_exporter": "python",
   "pygments_lexer": "ipython3",
   "version": "3.6.8"
  }
 },
 "nbformat": 4,
 "nbformat_minor": 5
}
